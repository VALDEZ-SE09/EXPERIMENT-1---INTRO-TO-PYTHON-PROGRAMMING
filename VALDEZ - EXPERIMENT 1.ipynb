{
 "cells": [
  {
   "cell_type": "markdown",
   "id": "454f6709-8003-41df-9a50-c1e8fa4d76fa",
   "metadata": {},
   "source": [
    "# EXPERIMENT 1 - INTRODUCTION TO PYTHON PROGRAMMING"
   ]
  },
  {
   "cell_type": "markdown",
   "id": "5f78bfc1-067c-47a8-9d5f-3f314b6143de",
   "metadata": {},
   "source": [
    "### ALPHABET SOUP PROBLEM: Create a function that takes a string and returns a string with its letters in alphabetical order."
   ]
  },
  {
   "cell_type": "code",
   "execution_count": 6,
   "id": "351ee8f9-2adc-4b17-a9dd-5beb60c8ce6f",
   "metadata": {},
   "outputs": [
    {
     "name": "stdout",
     "output_type": "stream",
     "text": [
      "   AAPaaacdddeggghiilmmmnnnoorrrstv\n"
     ]
    }
   ],
   "source": [
    "#sort letters of string into alphabetical order\n",
    "\n",
    "def sortString(s):\n",
    "    return ''.join(sorted(s)) #join sorted characters into a string\n",
    "\n",
    "s = 'Advanced Programming and Algorithms'\n",
    "print(sortString(s)) #print output"
   ]
  },
  {
   "cell_type": "code",
   "execution_count": 8,
   "id": "20acbc82-b265-4332-9954-bdb722e3bf6a",
   "metadata": {},
   "outputs": [
    {
     "name": "stdout",
     "output_type": "stream",
     "text": [
      "   CEEaacccdeeeggiiiiilmmnnnnnnnooorrssttu\n"
     ]
    }
   ],
   "source": [
    "#sort letters of string into alphabetical order\n",
    "\n",
    "def sortString(s):\n",
    "    return ''.join(sorted(s)) #join sorted characters into a string\n",
    "\n",
    "s = 'Electronics and Communications Engineering'\n",
    "print(sortString(s)) #print output"
   ]
  },
  {
   "cell_type": "code",
   "execution_count": 10,
   "id": "47e4d49a-01e0-444e-8a80-485f5e6e4561",
   "metadata": {},
   "outputs": [
    {
     "name": "stdout",
     "output_type": "stream",
     "text": [
      "  ADMaeeehlrsstyy\n"
     ]
    }
   ],
   "source": [
    "#sort letters of string into alphabetical order\n",
    "\n",
    "def sortString(s):\n",
    "    return ''.join(sorted(s)) #join sorted characters into a string\n",
    "\n",
    "s = 'My Dearest Ashley'\n",
    "print(sortString(s)) #print output"
   ]
  },
  {
   "cell_type": "markdown",
   "id": "42bce767-7c09-4e2c-bebd-642292f21369",
   "metadata": {},
   "source": [
    "### EMOTICON PROBLEM: Create a function that changes specific words into emoticons. Given a sentence as a string, replace the words smile, grin, sad and mad with their corresponding emoticon"
   ]
  },
  {
   "cell_type": "code",
   "execution_count": 19,
   "id": "c49f0e34-a00b-4d7b-8b2b-4bf71741aac5",
   "metadata": {},
   "outputs": [],
   "source": [
    "#replacing words with emoticons\n",
    "\n",
    "def emoticons(sentence):\n",
    "    emoticon_dict = {\n",
    "        \"smile\" : \":)\",\n",
    "        \"grin\" : \":D\",\n",
    "        \"sad\" : \":((\",\n",
    "        \"mad\" : \">:(\"\n",
    "    }\n",
    "    \n",
    "    #split sentence into words\n",
    "    words = sentence.split()\n",
    "    \n",
    "    #replace words with corresponding emoticons\n",
    "    replaced_emoticons = \" \".join ([emoticon_dict.get(word,word) for word in words])\n",
    "\n",
    "    return replaced_emoticons"
   ]
  },
  {
   "cell_type": "code",
   "execution_count": 21,
   "id": "eac0feb4-c53f-4aff-960f-17537d081bb2",
   "metadata": {},
   "outputs": [
    {
     "name": "stdout",
     "output_type": "stream",
     "text": [
      "You make me :)\n"
     ]
    }
   ],
   "source": [
    "#Example sentence for smile\n",
    "\n",
    "sentence = \"You make me smile\"\n",
    "result = emoticons(sentence)  \n",
    "print(result)"
   ]
  },
  {
   "cell_type": "code",
   "execution_count": 23,
   "id": "6803c2dd-ff03-4dd9-a672-4fcde7627f1d",
   "metadata": {},
   "outputs": [
    {
     "name": "stdout",
     "output_type": "stream",
     "text": [
      "She has beautiful eyes and a wide :D\n"
     ]
    }
   ],
   "source": [
    "#Example sentence for grin\n",
    "\n",
    "sentence = \"She has beautiful eyes and a wide grin\"\n",
    "result = emoticons(sentence)\n",
    "print(result)"
   ]
  },
  {
   "cell_type": "code",
   "execution_count": 25,
   "id": "a3770057-51d0-436d-b351-e2a330aac1d3",
   "metadata": {},
   "outputs": [
    {
     "name": "stdout",
     "output_type": "stream",
     "text": [
      "I am :(( because I had to retake this course\n"
     ]
    }
   ],
   "source": [
    "#Example sentence for sad\n",
    "\n",
    "sentence = \"I am sad because I had to retake this course\"\n",
    "result = emoticons(sentence)\n",
    "print(result)"
   ]
  },
  {
   "cell_type": "code",
   "execution_count": 27,
   "id": "e59f26ea-9035-4ccb-b1b6-0e2bf946fbba",
   "metadata": {},
   "outputs": [
    {
     "name": "stdout",
     "output_type": "stream",
     "text": [
      "I get >:( when people walk slowly\n"
     ]
    }
   ],
   "source": [
    "#Example sentence for mad\n",
    "\n",
    "sentence = \"I get mad when people walk slowly\"\n",
    "result = emoticons(sentence)\n",
    "print(result)"
   ]
  },
  {
   "cell_type": "markdown",
   "id": "acc7e7bc-98c0-4186-b45d-5e38773ccb8d",
   "metadata": {},
   "source": [
    "### UNPACKING LIST PROBLEM: Unpack the list writeyourcodehere into three variables, being first, \n",
    "middle, and last, with middle being everything in between the first and last element. Then print all thre \r\n",
    "variables"
   ]
  },
  {
   "cell_type": "code",
   "execution_count": 32,
   "id": "18da3809-a58f-4a2e-86a8-ecd7efd2cce1",
   "metadata": {},
   "outputs": [
    {
     "name": "stdout",
     "output_type": "stream",
     "text": [
      "first: 1, middle: [2, 3, 4, 5], last: 6\n"
     ]
    }
   ],
   "source": [
    "#example list of numbers\n",
    "\n",
    "my_list = [1,2,3,4,5,6]\n",
    "\n",
    "#unpacking the list\n",
    "first, *middle, last = my_list\n",
    "\n",
    "print (f\"first: {first}, middle: {middle}, last: {last}\")\n"
   ]
  },
  {
   "cell_type": "code",
   "execution_count": 34,
   "id": "424695e8-5ca7-470e-a086-d803482e0462",
   "metadata": {},
   "outputs": [
    {
     "name": "stdout",
     "output_type": "stream",
     "text": [
      "first: 1, middle: [1, 0, 9, 2], last: 3\n"
     ]
    }
   ],
   "source": [
    "#example list of numbers\n",
    "\n",
    "my_list = [1,1,0,9,2,3]\n",
    "\n",
    "#unpacking the list\n",
    "first, *middle, last = my_list\n",
    "\n",
    "print (f\"first: {first}, middle: {middle}, last: {last}\")\n"
   ]
  },
  {
   "cell_type": "code",
   "execution_count": 36,
   "id": "0ef2d744-022a-4d73-9a53-a324d71e7315",
   "metadata": {},
   "outputs": [
    {
     "name": "stdout",
     "output_type": "stream",
     "text": [
      "first: C++, middle: ['Python', 'Java'], last: Visual Basic\n"
     ]
    }
   ],
   "source": [
    "#example list of programming languages\n",
    "\n",
    "my_list = ['C++', 'Python', 'Java', 'Visual Basic']\n",
    "\n",
    "#unpacking the list\n",
    "first, *middle, last = my_list\n",
    "\n",
    "print (f\"first: {first}, middle: {middle}, last: {last}\")\n"
   ]
  },
  {
   "cell_type": "code",
   "execution_count": null,
   "id": "97a4575a-c07d-4bbf-a0cb-ed4f06a51faf",
   "metadata": {},
   "outputs": [],
   "source": []
  }
 ],
 "metadata": {
  "kernelspec": {
   "display_name": "Python 3 (ipykernel)",
   "language": "python",
   "name": "python3"
  },
  "language_info": {
   "codemirror_mode": {
    "name": "ipython",
    "version": 3
   },
   "file_extension": ".py",
   "mimetype": "text/x-python",
   "name": "python",
   "nbconvert_exporter": "python",
   "pygments_lexer": "ipython3",
   "version": "3.12.4"
  }
 },
 "nbformat": 4,
 "nbformat_minor": 5
}
